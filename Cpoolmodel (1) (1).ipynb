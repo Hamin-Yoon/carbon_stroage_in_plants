{
 "cells": [
  {
   "cell_type": "code",
   "execution_count": 561,
   "id": "872281d3",
   "metadata": {},
   "outputs": [],
   "source": [
    "## import libraries\n",
    "\n",
    "import pandas as pd\n",
    "import numpy as np\n",
    "import matplotlib.pyplot as plt\n",
    "import scipy.integrate as sci\n",
    "import sympy as sy\n",
    "from sklearn.metrics import r2_score"
   ]
  },
  {
   "cell_type": "code",
   "execution_count": 562,
   "id": "66e29cdf",
   "metadata": {},
   "outputs": [
    {
     "data": {
      "text/html": [
       "<div>\n",
       "<style scoped>\n",
       "    .dataframe tbody tr th:only-of-type {\n",
       "        vertical-align: middle;\n",
       "    }\n",
       "\n",
       "    .dataframe tbody tr th {\n",
       "        vertical-align: top;\n",
       "    }\n",
       "\n",
       "    .dataframe thead th {\n",
       "        text-align: right;\n",
       "    }\n",
       "</style>\n",
       "<table border=\"1\" class=\"dataframe\">\n",
       "  <thead>\n",
       "    <tr style=\"text-align: right;\">\n",
       "      <th></th>\n",
       "      <th>date</th>\n",
       "      <th>Pyrano_Wsec_1</th>\n",
       "      <th>Temp_Avg</th>\n",
       "      <th>Humid_Avg</th>\n",
       "    </tr>\n",
       "  </thead>\n",
       "  <tbody>\n",
       "    <tr>\n",
       "      <th>0</th>\n",
       "      <td>2020-02-26 00:00:00</td>\n",
       "      <td>0.0</td>\n",
       "      <td>23.29500</td>\n",
       "      <td>47.0725</td>\n",
       "    </tr>\n",
       "    <tr>\n",
       "      <th>1</th>\n",
       "      <td>2020-02-26 00:10:00</td>\n",
       "      <td>0.0</td>\n",
       "      <td>24.00125</td>\n",
       "      <td>44.2900</td>\n",
       "    </tr>\n",
       "    <tr>\n",
       "      <th>2</th>\n",
       "      <td>2020-02-26 00:20:00</td>\n",
       "      <td>0.0</td>\n",
       "      <td>23.63250</td>\n",
       "      <td>44.2975</td>\n",
       "    </tr>\n",
       "    <tr>\n",
       "      <th>3</th>\n",
       "      <td>2020-02-26 00:30:00</td>\n",
       "      <td>0.0</td>\n",
       "      <td>23.10250</td>\n",
       "      <td>44.7500</td>\n",
       "    </tr>\n",
       "    <tr>\n",
       "      <th>4</th>\n",
       "      <td>2020-02-26 00:40:00</td>\n",
       "      <td>0.0</td>\n",
       "      <td>22.49000</td>\n",
       "      <td>45.6325</td>\n",
       "    </tr>\n",
       "    <tr>\n",
       "      <th>...</th>\n",
       "      <td>...</td>\n",
       "      <td>...</td>\n",
       "      <td>...</td>\n",
       "      <td>...</td>\n",
       "    </tr>\n",
       "    <tr>\n",
       "      <th>19147</th>\n",
       "      <td>2020-07-07 23:10:00</td>\n",
       "      <td>0.0</td>\n",
       "      <td>25.01000</td>\n",
       "      <td>81.7525</td>\n",
       "    </tr>\n",
       "    <tr>\n",
       "      <th>19148</th>\n",
       "      <td>2020-07-07 23:20:00</td>\n",
       "      <td>0.0</td>\n",
       "      <td>24.91625</td>\n",
       "      <td>81.9125</td>\n",
       "    </tr>\n",
       "    <tr>\n",
       "      <th>19149</th>\n",
       "      <td>2020-07-07 23:30:00</td>\n",
       "      <td>0.0</td>\n",
       "      <td>24.80125</td>\n",
       "      <td>82.1650</td>\n",
       "    </tr>\n",
       "    <tr>\n",
       "      <th>19150</th>\n",
       "      <td>2020-07-07 23:40:00</td>\n",
       "      <td>0.0</td>\n",
       "      <td>24.72125</td>\n",
       "      <td>82.4050</td>\n",
       "    </tr>\n",
       "    <tr>\n",
       "      <th>19151</th>\n",
       "      <td>2020-07-07 23:50:00</td>\n",
       "      <td>0.0</td>\n",
       "      <td>24.64000</td>\n",
       "      <td>82.5950</td>\n",
       "    </tr>\n",
       "  </tbody>\n",
       "</table>\n",
       "<p>19152 rows × 4 columns</p>\n",
       "</div>"
      ],
      "text/plain": [
       "                      date  Pyrano_Wsec_1  Temp_Avg  Humid_Avg\n",
       "0      2020-02-26 00:00:00            0.0  23.29500    47.0725\n",
       "1      2020-02-26 00:10:00            0.0  24.00125    44.2900\n",
       "2      2020-02-26 00:20:00            0.0  23.63250    44.2975\n",
       "3      2020-02-26 00:30:00            0.0  23.10250    44.7500\n",
       "4      2020-02-26 00:40:00            0.0  22.49000    45.6325\n",
       "...                    ...            ...       ...        ...\n",
       "19147  2020-07-07 23:10:00            0.0  25.01000    81.7525\n",
       "19148  2020-07-07 23:20:00            0.0  24.91625    81.9125\n",
       "19149  2020-07-07 23:30:00            0.0  24.80125    82.1650\n",
       "19150  2020-07-07 23:40:00            0.0  24.72125    82.4050\n",
       "19151  2020-07-07 23:50:00            0.0  24.64000    82.5950\n",
       "\n",
       "[19152 rows x 4 columns]"
      ]
     },
     "execution_count": 562,
     "metadata": {},
     "output_type": "execute_result"
    }
   ],
   "source": [
    "import os \n",
    "input1='/Users/HP/Documents/하이웍스 받은파일/data/env'\n",
    "# os.listdir(input1)\n",
    "S20env=pd.read_csv('env/CT_20S.csv', usecols=[0,1,3,4])#['Pyrano_Wsec_1','Temp_Avg','Humid_Avg'])\n",
    "S21env=pd.read_csv('env/CT_21S.csv', usecols=[0,2,3,4])#['Pyrano_Wsec_2','Temp_Avg','Humid_Avg'])\n",
    "W20env=pd.read_csv('env/CT_20W.csv', usecols=[0,1,3,4])#['Pyrano_Wsec_1','Temp_Avg','Humid_Avg']) # 온습도 데이터 이상 \n",
    "W21env=pd.read_csv('env/CT_21W.csv', usecols=[0,2,3,4])#['Pyrano_Wsec_2','Temp_Avg','Humid_Avg'])\n",
    "\n",
    "# W20env.plot(subplots=True)\n",
    "S20env"
   ]
  },
  {
   "cell_type": "code",
   "execution_count": 563,
   "id": "a7ada66d",
   "metadata": {},
   "outputs": [
    {
     "data": {
      "text/plain": [
       "array([<AxesSubplot:>, <AxesSubplot:>], dtype=object)"
      ]
     },
     "execution_count": 563,
     "metadata": {},
     "output_type": "execute_result"
    },
    {
     "data": {
      "image/png": "[encoded data removed]",
      "text/plain": [
       "<Figure size 432x288 with 2 Axes>"
      ]
     },
     "metadata": {
      "needs_background": "light"
     },
     "output_type": "display_data"
    }
   ],
   "source": [
    "time_period=6*24*30\n",
    "time=pd.date_range('2020-01-01 0:0:0',periods=time_period, freq=\"10T\")\n",
    "df= pd.DataFrame(None, index = time)\n",
    "\n",
    "DOY=df.index.strftime('%j').astype(int)\n",
    "\n",
    "sunrise = 6\n",
    "sunset = 22\n",
    "df['day_night'] = df.index.hour.map(lambda h: 'day' if sunrise <= h <= sunset else 'night' )\n",
    "\n",
    "df.loc[(df['day_night'] == 'day') , 'Temp'] = 22\n",
    "df.loc[(df['day_night'] == 'night') , 'Temp'] = 14\n",
    "df.loc[(df['day_night'] == 'day') & ((DOY  <= 20) &(DOY >10)), 'Temp'] = 15\n",
    "df.loc[(df['day_night'] == 'day') & (20< DOY ), 'Temp'] = 28\n",
    "\n",
    "df.loc[(df['day_night'] == 'day') & (DOY <= 10), 'Rad'] = 300\n",
    "df.loc[(df['day_night'] == 'day') & ((DOY  <= 20) &(DOY >10)), 'Rad'] = 400\n",
    "df.loc[(df['day_night'] == 'day') & (20< DOY ), 'Rad'] = 200\n",
    "df= df.fillna(0)\n",
    "\n",
    "# mask = (df.index.between(pd.Timedelta('08:00:00'), pd.Timedelta('18:00:00')))\n",
    "# DatetimeIndex.indexer_between_time(start_time, end_time, include_start=True, include_end=True)[source]\n",
    "# df1=df[mask]\n",
    "# df2=df[~mask]\n",
    "\n",
    "df.plot(subplots=True) #.iloc[:24*6*5,:]\n"
   ]
  },
  {
   "cell_type": "code",
   "execution_count": 564,
   "id": "01f97ef3-5803-4799-9880-e6a5a6c84fe5",
   "metadata": {},
   "outputs": [],
   "source": [
    "'''\n",
    "main code \n",
    "'''\n",
    "\n",
    "#Model 1 \n",
    "comp_20 = 7.32*10**(-5)\n",
    "Q_10 = 2\n",
    "CO2 = 400\n",
    "LUE_CO2= 17*10**(-9)\n",
    "con_bnd= 0.004\n",
    "con_stem= 0.007\n",
    "k = 0.7\n",
    "Q10_resp = 2\n",
    "C_resp = 3.47*10**(-7)\n",
    "# W_dry = 0.2 #structure dry weight; kgDM\n",
    "C_bet= 0.8 # Conversion rate from assimilate to dry matter\n",
    "C_alp= 0.68 # conversion factor from carbon dioxide into sugar equivalents \n",
    "\n",
    "\n",
    "#Model 2 \n",
    "con_gro = 5*10**(-6)\n",
    "Q10_gro =1.6\n",
    "W_str =  0.2 #structure dry weight; kgDM\n",
    "W_nsc = 0.8\n",
    "\n",
    "df=df.resample('1H').mean()\n",
    "DAT=np.arange(0,len(df.resample('1D')))\n",
    "DOY=df.index.strftime('%j').astype(int)\n",
    "LAI =  4/(1+np.exp((20-DOY) /7))\n",
    "LAI_series = pd.Series(LAI,df.index)\n",
    "drymass1=[]\n",
    "drymass2=[]\n",
    "temp = df.Temp\n",
    "rad = df.Rad\n",
    "\n",
    "# Loop over each day in the data\n",
    "for day in df.index.day.unique():\n",
    "    # Loop over each hour of the day\n",
    "    for hour in df.index.hour.unique():\n",
    "        # Get the hourly value of LAI, temperature and radiation\n",
    "        LAI_h = LAI_series[(LAI_series.index.day==day) & (LAI_series.index.hour==hour)].values[0]\n",
    "        temp_h = df[(temp.index.day==day) & (temp.index.hour==hour)].Temp.values[0]\n",
    "        rad_h = df[(rad.index.day==day) & (rad.index.hour==hour)].Rad.values[0]\n",
    "        \n",
    "        # Define parameters using hourly variables\n",
    "        con_car = -1.32*10**(-5)*temp_h**2 +  5.94*10**(-4)* temp_h  -2.64*10**(-3)\n",
    "        con_can=1/(1/con_bnd +1/con_stem + 1/con_car) \n",
    "        comp = comp_20*Q_10**((temp_h-20)/10)\n",
    "        LUE= LUE_CO2*((CO2-comp)/(CO2+2*comp))\n",
    "        phot_max = LUE*rad_h*con_can*(CO2-comp)/(LUE*rad_h+con_can*(CO2-comp)) # maximum assimilation rate (gC/day/m2)\n",
    "        \n",
    "        r_gro= con_gro*(W_nsc/(  W_str))*Q10_gro**((temp_h-20)/10)\n",
    "        \n",
    "        \n",
    "        \n",
    "        # print(day,hour,r_gro,'temp',temp_h, 'rad',rad_h)  \n",
    "        \n",
    "        # Calculate the hourly photosynthesis and respiration\n",
    "        phot = phot_max*(1-np.exp(-k*LAI_h)) # assimilate production (sugar equivalents)\n",
    "        \n",
    "        # resp = C_resp*W_dry*Q10_resp**((temp_h-25)/10) # respiration rate (kgC/hr)\n",
    "        main_resp = C_resp*W_str*Q10_resp**((temp_h-25)/10) # respiration rate (kgC/hr)\n",
    "        str_gro = r_gro*W_str\n",
    "        gro_resp= (1-C_bet)*str_gro/C_bet\n",
    "        \n",
    "        dX_sol = a1+p1*phot-str_gro-(1-a2)*resp-gro_resp\n",
    "        \n",
    "        dW_dt = C_bet*(C_alp*phot - main_resp) # rate of change of dry matter (kgDM/hr)\n",
    "        \n",
    "        dW_nsc_dt = C_alp*phot - main_resp - str_gro - gro_resp  # rate of change of dry matter (kgDM/hr)\n",
    "        dW_str_dt = str_gro\n",
    "        \n",
    "        W_nsc = + dW_nsc_dt\n",
    "        W_str = + dW_str_dt\n",
    "        \n",
    "        W_dry1 = + dW_dt\n",
    "        W_dry2 = +  W_nsc + W_str\n",
    "      \n",
    "        drymass1.append(W_dry1*1000)\n",
    "        drymass2.append(W_dry2*1000)\n",
    "        "
   ]
  },
  {
   "cell_type": "code",
   "execution_count": 559,
   "id": "a160bc23-f41b-4760-adb5-590878e0d585",
   "metadata": {},
   "outputs": [
    {
     "data": {
      "image/png": "[encoded data removed]",
      "text/plain": [
       "<Figure size 432x288 with 1 Axes>"
      ]
     },
     "metadata": {
      "needs_background": "light"
     },
     "output_type": "display_data"
    }
   ],
   "source": [
    "'''\n",
    "Code plotting\n",
    "'''\n",
    "plt.plot(pd.Series(np.cumsum(drymass2),df.index))\n",
    "plt.plot(pd.Series(np.cumsum(drymass1),df.index))\n",
    "plt.xticks(rotation=45)\n",
    "plt.show()"
   ]
  },
  {
   "cell_type": "code",
   "execution_count": 172,
   "id": "bbbfdf06",
   "metadata": {},
   "outputs": [
    {
     "data": {
      "image/png": "[encoded data removed]",
      "text/plain": [
       "<Figure size 432x288 with 1 Axes>"
      ]
     },
     "metadata": {
      "needs_background": "light"
     },
     "output_type": "display_data"
    }
   ],
   "source": [
    "Xn = 0.1\n",
    "Xs = 0.1\n",
    "\n",
    "\n",
    "\n",
    "\n",
    "str_gro=r_gro*Xs\n",
    "\n",
    "\n",
    "\n",
    "\n",
    "\n",
    "TDW = np.cumsum(dXs + dXn)\n",
    "conv_factor = 30\n",
    "plt.plot(np.cumsum(dW)*1000*conv_factor, label= 'No C Pool')\n",
    "plt.plot(TDW*1000*conv_factor, label='NSC pool')\n",
    "plt.legend()\n",
    "plt.xticks(rotation=45)\n",
    "plt.ylabel(\"Cumulative dry weight(g DM/m2)\")\n",
    "plt.show()"
   ]
  },
  {
   "cell_type": "code",
   "execution_count": 473,
   "id": "7d124fec-c5ee-4bea-be28-92c1b1d608cc",
   "metadata": {},
   "outputs": [
    {
     "ename": "NameError",
     "evalue": "name 'W_l' is not defined",
     "output_type": "error",
     "traceback": [
      "\u001b[0;31m---------------------------------------------------------------------------\u001b[0m",
      "\u001b[0;31mNameError\u001b[0m                                 Traceback (most recent call last)",
      "\u001b[0;32m/tmp/ipykernel_1058/3390176614.py\u001b[0m in \u001b[0;36m<module>\u001b[0;34m\u001b[0m\n\u001b[1;32m      1\u001b[0m \u001b[0;31m#산체스몰리나 2015\u001b[0m\u001b[0;34m\u001b[0m\u001b[0;34m\u001b[0m\u001b[0;34m\u001b[0m\u001b[0m\n\u001b[1;32m      2\u001b[0m \u001b[0mTemp\u001b[0m\u001b[0;34m=\u001b[0m \u001b[0mdf\u001b[0m\u001b[0;34m.\u001b[0m\u001b[0mTemp\u001b[0m\u001b[0;34m.\u001b[0m\u001b[0mresample\u001b[0m\u001b[0;34m(\u001b[0m\u001b[0;34m'1H'\u001b[0m\u001b[0;34m)\u001b[0m\u001b[0;34m.\u001b[0m\u001b[0mmean\u001b[0m\u001b[0;34m(\u001b[0m\u001b[0;34m)\u001b[0m\u001b[0;34m\u001b[0m\u001b[0;34m\u001b[0m\u001b[0m\n\u001b[0;32m----> 3\u001b[0;31m \u001b[0mmain_resp\u001b[0m\u001b[0;34m=\u001b[0m \u001b[0;36m0.03\u001b[0m\u001b[0;34m*\u001b[0m\u001b[0mW_l\u001b[0m \u001b[0;34m+\u001b[0m \u001b[0;36m0.015\u001b[0m\u001b[0;34m*\u001b[0m\u001b[0mW_s\u001b[0m \u001b[0;34m+\u001b[0m \u001b[0;36m0.015\u001b[0m\u001b[0;34m*\u001b[0m\u001b[0mW_r\u001b[0m \u001b[0;34m+\u001b[0m \u001b[0;36m0.01\u001b[0m\u001b[0;34m*\u001b[0m\u001b[0mW_f\u001b[0m\u001b[0;34m\u001b[0m\u001b[0;34m\u001b[0m\u001b[0m\n\u001b[0m\u001b[1;32m      4\u001b[0m \u001b[0mresp\u001b[0m \u001b[0;34m=\u001b[0m \u001b[0mmain_resp\u001b[0m\u001b[0;34m*\u001b[0m\u001b[0mw\u001b[0m\u001b[0;34m**\u001b[0m\u001b[0;34m(\u001b[0m\u001b[0;34m(\u001b[0m\u001b[0mTemp\u001b[0m\u001b[0;34m-\u001b[0m\u001b[0;36m25\u001b[0m\u001b[0;34m)\u001b[0m\u001b[0;34m/\u001b[0m\u001b[0;36m10\u001b[0m\u001b[0;34m)\u001b[0m\u001b[0;34m\u001b[0m\u001b[0;34m\u001b[0m\u001b[0m\n",
      "\u001b[0;31mNameError\u001b[0m: name 'W_l' is not defined"
     ]
    }
   ],
   "source": [
    "#산체스몰리나 2015\n",
    "Temp= df.Temp.resample('1H').mean()\n",
    "W_l = \n",
    "W_s = \n",
    "W_r = \n",
    "W_f = \n",
    "main_resp= 0.03*W_l + 0.015*W_s + 0.015*W_r + 0.01*W_f \n",
    "resp = main_resp*w**((Temp-25)/10)\n"
   ]
  },
  {
   "cell_type": "code",
   "execution_count": 510,
   "id": "5f972f65",
   "metadata": {},
   "outputs": [
    {
     "ename": "NameError",
     "evalue": "name 'X_strc' is not defined",
     "output_type": "error",
     "traceback": [
      "\u001b[0;31m---------------------------------------------------------------------------\u001b[0m",
      "\u001b[0;31mNameError\u001b[0m                                 Traceback (most recent call last)",
      "\u001b[0;32m/tmp/ipykernel_1058/1994069965.py\u001b[0m in \u001b[0;36m<module>\u001b[0;34m\u001b[0m\n\u001b[1;32m      9\u001b[0m \u001b[0;32mfor\u001b[0m \u001b[0mi\u001b[0m \u001b[0;32min\u001b[0m \u001b[0mrange\u001b[0m\u001b[0;34m(\u001b[0m\u001b[0mlen\u001b[0m\u001b[0;34m(\u001b[0m\u001b[0mdf\u001b[0m\u001b[0;34m.\u001b[0m\u001b[0mresample\u001b[0m\u001b[0;34m(\u001b[0m\u001b[0;34m'1D'\u001b[0m\u001b[0;34m)\u001b[0m\u001b[0;34m)\u001b[0m\u001b[0;34m)\u001b[0m\u001b[0;34m:\u001b[0m\u001b[0;34m\u001b[0m\u001b[0;34m\u001b[0m\u001b[0m\n\u001b[1;32m     10\u001b[0m     \u001b[0mdX_sol\u001b[0m \u001b[0;34m=\u001b[0m \u001b[0ma1\u001b[0m\u001b[0;34m+\u001b[0m\u001b[0mp1\u001b[0m\u001b[0;34m*\u001b[0m\u001b[0mphot\u001b[0m\u001b[0;34m-\u001b[0m\u001b[0mstr_gro\u001b[0m\u001b[0;34m-\u001b[0m\u001b[0;34m(\u001b[0m\u001b[0;36m1\u001b[0m\u001b[0;34m-\u001b[0m\u001b[0ma2\u001b[0m\u001b[0;34m)\u001b[0m\u001b[0;34m*\u001b[0m\u001b[0mresp\u001b[0m\u001b[0;34m-\u001b[0m\u001b[0mgro_resp\u001b[0m\u001b[0;34m\u001b[0m\u001b[0;34m\u001b[0m\u001b[0m\n\u001b[0;32m---> 11\u001b[0;31m \u001b[0mXn\u001b[0m \u001b[0;34m=\u001b[0m \u001b[0mXsol\u001b[0m\u001b[0;34m+\u001b[0m\u001b[0mX_strc\u001b[0m\u001b[0;34m\u001b[0m\u001b[0;34m\u001b[0m\u001b[0m\n\u001b[0m\u001b[1;32m     12\u001b[0m \u001b[0;31m# IF X_sol > X_sol_max THEN phot=0.9*phot AND p1=0 AND a1=0\u001b[0m\u001b[0;34m\u001b[0m\u001b[0;34m\u001b[0m\u001b[0;34m\u001b[0m\u001b[0m\n\u001b[1;32m     13\u001b[0m \u001b[0mplt\u001b[0m\u001b[0;34m.\u001b[0m\u001b[0mplot\u001b[0m\u001b[0;34m(\u001b[0m\u001b[0mdX_sol\u001b[0m\u001b[0;34m)\u001b[0m\u001b[0;34m\u001b[0m\u001b[0;34m\u001b[0m\u001b[0m\n",
      "\u001b[0;31mNameError\u001b[0m: name 'X_strc' is not defined"
     ]
    }
   ],
   "source": [
    "light_period =16\n",
    "Xsol=0\n",
    "a1= Xsol/(24-light_period)*3600\n",
    "p1 = light_period/24\n",
    "a2= 1 if Xsol<0.03*Xs else 0\n",
    "dX_strc = -a1+(1-p1)*phot\n",
    "\n",
    "dXs_3 = str_gro-a2*resp\n",
    "for i in range(len(df.resample('1D'))):\n",
    "    dX_sol = a1+p1*phot-str_gro-(1-a2)*resp-gro_resp\n",
    "Xn = Xsol+X_strc\n",
    "# IF X_sol > X_sol_max THEN phot=0.9*phot AND p1=0 AND a1=0\n",
    "plt.plot(dX_sol)\n"
   ]
  },
  {
   "cell_type": "code",
   "execution_count": 511,
   "id": "dece588f",
   "metadata": {},
   "outputs": [
    {
     "data": {
      "text/plain": [
       "[<matplotlib.lines.Line2D at 0x7fa2a661fb50>]"
      ]
     },
     "execution_count": 511,
     "metadata": {},
     "output_type": "execute_result"
    },
    {
     "data": {
      "image/png": "[encoded data removed]",
      "text/plain": [
       "<Figure size 720x360 with 2 Axes>"
      ]
     },
     "metadata": {
      "needs_background": "light"
     },
     "output_type": "display_data"
    }
   ],
   "source": [
    "fig, (ax1, ax2) = plt.subplots(1, 2, figsize=(10,5))\n",
    "ax1.plot(C_alp*phot)\n",
    "ax2.plot(resp)"
   ]
  },
  {
   "cell_type": "markdown",
   "id": "9ac1c114-eeb0-4360-aae2-e46a8c7406fb",
   "metadata": {},
   "source": [
    "------------------------------trash-----------------------------"
   ]
  },
  {
   "cell_type": "code",
   "execution_count": 556,
   "id": "f387db2e",
   "metadata": {},
   "outputs": [],
   "source": [
    "import numpy as np\n",
    "import matplotlib.pyplot as plt\n",
    "\n",
    "# Parameters\n",
    "Q10_resp = 2     # Q10 value for respiration\n",
    "C_resp = 3.47e-7 # respiration rate constant\n",
    "C_bet = 0.8      # conversion rate from assimilate to dry matter\n",
    "C_alp = 0.68     # conversion factor from CO2 into sugar equivalents\n",
    "W_dry_str = 0.2  # structural dry weight (kgDM)\n",
    "\n",
    "# Initialize variables\n",
    "dW_dt = 0        # rate of change of dry matter\n",
    "W_dry = W_dry_str  # initial dry matter\n",
    "resp = 0         # initial respiration\n",
    "time = [0]       # time (days)\n",
    "W_dry_list = [W_dry] # dry matter list\n",
    "resp_list = [resp]   # respiration list\n",
    "\n",
    "# Simulation parameters\n",
    "t_max = 100      # simulation time (days)\n",
    "dt = 0.1         # time step (days)\n",
    "\n",
    "# Simulation loop\n",
    "for t in np.arange(dt, t_max, dt):\n",
    "    # Calculate assimilate production (sugar equivalents)\n",
    "    LUE = 0.04     # light use efficiency (gC/MJ)\n",
    "    PAR = 300       # photosynthetically active radiation (MJ/day)\n",
    "    CO2 = 400      # atmospheric CO2 concentration (ppm)\n",
    "    LUE_CO2 = 17e-9 # CO2 effect on light use efficiency (molC/J)\n",
    "    comp_20 = 7.32e-5 # compensation point at 20°C (mol/mol)\n",
    "    Q10 = 2        # Q10 value for compensation point\n",
    "    Temp = 25 # temperature (°C)\n",
    "    \n",
    "    comp = comp_20*Q10**((Temp-20)/10) # compensation point\n",
    "    con_bnd = 0.004  # boundary layer conductance (mol/m2/s/Pa)\n",
    "    con_stem = 0.007 # stem conductance (mol/m2/s/Pa)\n",
    "    con_car = -1.32e-5*Temp**2 + 5.94e-4*Temp - 2.64e-3 # carboxylation conductance (mol/m2/s/Pa)\n",
    "    con_can = 1/(1/con_bnd + 1/con_stem + 1/con_car) # total leaf conductance (mol/m2/s/Pa)\n",
    "    Rad = PAR*(1-np.exp(-0.5*LAI))/(0.5*LAI) # absorbed photosynthetically active radiation (MJ/day/m2)\n",
    "    phot_max = LUE*PAR*con_can*(CO2-comp)/(LUE*PAR+con_can*(CO2-comp)) # maximum assimilation rate (gC/day/m2)\n",
    "    assim = C_alp*phot_max*(CO2-comp)/(LUE_CO2*(CO2+2*comp)) # assimilate production (sugar equivalents)\n",
    "    \n",
    "    # Calculate respiration rate\n",
    "    resp = C_resp*W_dry*Q10_resp**((Temp-25)/10) # respiration rate (kgC/day)\n",
    "    \n",
    "    # Calculate rate of change of dry matter\n",
    "    dW_dt = C_bet*(C_alp*assim - resp) # rate of change of dry matter (kgDM/day)\n",
    "    \n",
    "    # Update dry matter and respiration\n",
    "    W_dry += dW_dt\n"
   ]
  },
  {
   "cell_type": "code",
   "execution_count": 558,
   "id": "8f22626d-b335-49fb-b8ed-9af11fcd9e8d",
   "metadata": {},
   "outputs": [
    {
     "data": {
      "text/plain": [
       "12809608442.077032"
      ]
     },
     "execution_count": 558,
     "metadata": {},
     "output_type": "execute_result"
    }
   ],
   "source": [
    "W_dry\n",
    "# plt.plot(W_dry)"
   ]
  },
  {
   "cell_type": "code",
   "execution_count": 374,
   "id": "b891146d-f0e4-4674-9a4d-2c06f236866e",
   "metadata": {},
   "outputs": [
    {
     "data": {
      "image/png": "[encoded data removed]",
      "text/plain": [
       "<Figure size 432x288 with 1 Axes>"
      ]
     },
     "metadata": {
      "needs_background": "light"
     },
     "output_type": "display_data"
    }
   ],
   "source": [
    "comp_20 = 7.32*10**(-5)\n",
    "Q_10 = 2\n",
    "LUE_CO2= 17*10**(-9)\n",
    "con_bnd= 0.004\n",
    "con_stem= 0.007\n",
    "li=[]\n",
    "\n",
    "for i in range(len(df.index)):\n",
    "    comp = comp_20*Q_10**((Temp[i]-20)/10)\n",
    "    LUE= LUE_CO2*((CO2-comp)/(CO2+2*comp))\n",
    "    con_car = -1.32*10**(-5)*Temp[i]**2 +  5.94*10**(-4)* Temp[i]  -2.64*10**(-3)\n",
    "    con_can=1/(1/con_bnd +1/con_stem + 1/con_car)\n",
    "    phot_max = LUE*Rad[i]*con_can*(CO2-comp)/(LUE*Rad[i]+con_can*(CO2-comp))\n",
    "    k = 0.7\n",
    "    LAI=3\n",
    "    phot = phot_max*(1-np.exp(-k*LAI))\n",
    "    Q10_resp = 2\n",
    "    C_resp = 3.47*10**(-7)\n",
    "    W_dry_str = 0.2 #structure dry weight; kgDM\n",
    "    C_bet= 0.8 # Conversion rate from assimilate to dry matter\n",
    "    C_alp= 0.68 # conversion factor from carbon dioxide into sugar equivalents \n",
    "    dW_dt=0\n",
    "\n",
    "\n",
    "    # Calculate the new value of dW based on the current value of resp\n",
    "    \n",
    "    resp = C_resp*np.cumsum(dW_dt)* Q10_resp**((Temp[i]-25)/10)\n",
    "    # Calculate the new value of resp based on the current value of dW\n",
    "    dW_dt = C_bet*(C_alp*phot-resp)\n",
    "    li.append(dW_dt)\n",
    "    # W_dry += dW_dt\n",
    "    # Print the values of dW and resp\n",
    "    # print(f\"Iteration {i}: dW={dW_dt}, resp={resp}\")\n",
    "\n",
    "plt.plot(li)\n",
    "plt.xticks(rotation=45)\n",
    "plt.show()\n",
    "# print(np.cumsum(dW_dt))\n",
    "\n",
    "# int_func = sy.integrate(dW) + init_W"
   ]
  }
 ],
 "metadata": {
  "kernelspec": {
   "display_name": "Python 3 (ipykernel)",
   "language": "python",
   "name": "python3"
  },
  "language_info": {
   "codemirror_mode": {
    "name": "ipython",
    "version": 3
   },
   "file_extension": ".py",
   "mimetype": "text/x-python",
   "name": "python",
   "nbconvert_exporter": "python",
   "pygments_lexer": "ipython3",
   "version": "3.8.10"
  }
 },
 "nbformat": 4,
 "nbformat_minor": 5
}
